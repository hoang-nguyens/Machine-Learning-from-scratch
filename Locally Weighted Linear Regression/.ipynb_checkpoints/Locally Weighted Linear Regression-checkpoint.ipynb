{
 "cells": [
  {
   "cell_type": "code",
   "execution_count": 47,
   "id": "7afcee09",
   "metadata": {},
   "outputs": [],
   "source": [
    "import numpy as np\n",
    "import pandas as pd\n",
    "import matplotlib.pyplot as plt\n",
    "from sklearn.datasets import load_diabetes\n",
    "from sklearn.model_selection import train_test_split\n",
    "from sklearn.linear_model import LinearRegression"
   ]
  },
  {
   "cell_type": "code",
   "execution_count": 48,
   "id": "33399444",
   "metadata": {},
   "outputs": [],
   "source": [
    "X, y = load_diabetes(return_X_y = True)\n",
    "X_train,X_test, y_train, y_test = train_test_split(X,y, random_state = 4, test_size = 0.2)"
   ]
  },
  {
   "cell_type": "code",
   "execution_count": 63,
   "id": "30746686",
   "metadata": {},
   "outputs": [
    {
     "name": "stdout",
     "output_type": "stream",
     "text": [
      "54.58003430150412\n",
      "128.0\n"
     ]
    }
   ],
   "source": [
    "# locally weighted linear regression can only predict 1 data at once time\n",
    "# we use normal equaiton to quick calculate parameters theta\n",
    "# normal equation theta = (X^T.W.X)^(-1).X^T.W.y\n",
    "def weighted(X, x0, tau):\n",
    "    return np.exp(np.sum((X - x0) ** 2) / (-2 * (tau **2) ))\n",
    "def locally_weighted(x_test,X_train,y_train,tau):\n",
    "    W = np.diag([weighted(x_test,X_train[i],tau) for i in range(len(X_train))])\n",
    "    theta = np.dot(np.dot(np.linalg.pinv(np.dot(np.dot(X_train.T,W),X_train)), np.dot(X_train.T,W)),y_train)\n",
    "    \n",
    "    return theta\n",
    "para = locally_weighted(X_test[0],X_train,y_train,0.0025)\n",
    "y_pred = (para*X_test[0]).sum()\n",
    "print(y_pred)\n",
    "print(y_test[0])\n",
    "# tệ zl :>"
   ]
  },
  {
   "cell_type": "code",
   "execution_count": null,
   "id": "91ad11a8",
   "metadata": {},
   "outputs": [],
   "source": []
  }
 ],
 "metadata": {
  "kernelspec": {
   "display_name": "Python 3 (ipykernel)",
   "language": "python",
   "name": "python3"
  },
  "language_info": {
   "codemirror_mode": {
    "name": "ipython",
    "version": 3
   },
   "file_extension": ".py",
   "mimetype": "text/x-python",
   "name": "python",
   "nbconvert_exporter": "python",
   "pygments_lexer": "ipython3",
   "version": "3.11.5"
  }
 },
 "nbformat": 4,
 "nbformat_minor": 5
}

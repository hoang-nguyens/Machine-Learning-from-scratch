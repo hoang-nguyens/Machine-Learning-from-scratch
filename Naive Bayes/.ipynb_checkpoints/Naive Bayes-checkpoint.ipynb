{
 "cells": [
  {
   "cell_type": "code",
   "execution_count": 167,
   "id": "3c46c92e",
   "metadata": {},
   "outputs": [],
   "source": [
    "import pandas as pd\n",
    "import numpy as np\n",
    "from sklearn.model_selection import train_test_split\n",
    "from sklearn.feature_extraction.text import CountVectorizer"
   ]
  },
  {
   "cell_type": "code",
   "execution_count": 168,
   "id": "e1fd4d07",
   "metadata": {},
   "outputs": [],
   "source": [
    "df = pd.read_csv(\"emails.csv\")\n",
    "vectorizer = CountVectorizer()\n",
    "X = df['text']\n",
    "y = df['spam']\n",
    "\n",
    "\n",
    "X_cv = vectorizer.fit_transform(X)\n",
    "X_train, X_test, y_train, y_test = train_test_split(X_cv,y, random_state=2, train_size=0.8)\n",
    "X_train_array = X_train.toarray()\n",
    "X_test_array = X_test.toarray()\n",
    "feature_names = vectorizer.get_feature_names_out()\n"
   ]
  },
  {
   "cell_type": "code",
   "execution_count": 169,
   "id": "1e445879",
   "metadata": {},
   "outputs": [],
   "source": [
    "# calculate probability for each word given in spam email or nomal email\n",
    "X_train_spam = X_train_array[y_train == 1]\n",
    "X_train_normal = X_train_array[y_train == 0]\n",
    "X_probs = np.zeros((2, len(feature_names))) # probs[0] is normal email and probs[1] is spam email\n",
    "X_probs[0] = (np.sum(X_train_normal, axis = 0) +1) / ( len(X_train_array)+ len(feature_names))\n",
    "X_probs[1] = (np.sum(X_train_spam, axis = 0) +1) / ( len(X_train_array) + len(feature_names))\n",
    "spam_prob = y_train.sum() / len(y_train)\n",
    "normal_prob = 1 - spam_prob"
   ]
  },
  {
   "cell_type": "code",
   "execution_count": 170,
   "id": "8a47edc7",
   "metadata": {},
   "outputs": [
    {
     "name": "stdout",
     "output_type": "stream",
     "text": [
      "75.21815008726004\n"
     ]
    },
    {
     "data": {
      "text/plain": [
       "'\\nprint(X_test.shape[0])\\nprint(X_train_array.shape)\\nprint(X_probs[0].shape)\\n'"
      ]
     },
     "execution_count": 170,
     "metadata": {},
     "output_type": "execute_result"
    }
   ],
   "source": [
    "# naive bayes \n",
    "\n",
    "def naive_bayes(X_test, X_probs):\n",
    "    y_probs = np.zeros((2, X_test.shape[0]))\n",
    "    y_probs[0] = normal_prob * np.einsum(\"ij,j->i\", X_test_array, X_probs[0])\n",
    "    y_probs[1] = spam_prob * np.einsum(\"ij,j->i\", X_test_array, X_probs[1])\n",
    "    y_pred = np.argmax(y_probs, axis=0)\n",
    "    return y_pred.reshape(-1,)\n",
    "\n",
    "y_pred = naive_bayes(X_test, X_probs)\n",
    "acc = ((y_pred == y_test).sum()) / len(y_test) * 100\n",
    "print(acc)\n",
    "'''\n",
    "print(X_test.shape[0])\n",
    "print(X_train_array.shape)\n",
    "print(X_probs[0].shape)\n",
    "'''"
   ]
  },
  {
   "cell_type": "code",
   "execution_count": null,
   "id": "76976d26",
   "metadata": {},
   "outputs": [],
   "source": []
  }
 ],
 "metadata": {
  "kernelspec": {
   "display_name": "Python 3 (ipykernel)",
   "language": "python",
   "name": "python3"
  },
  "language_info": {
   "codemirror_mode": {
    "name": "ipython",
    "version": 3
   },
   "file_extension": ".py",
   "mimetype": "text/x-python",
   "name": "python",
   "nbconvert_exporter": "python",
   "pygments_lexer": "ipython3",
   "version": "3.11.5"
  }
 },
 "nbformat": 4,
 "nbformat_minor": 5
}

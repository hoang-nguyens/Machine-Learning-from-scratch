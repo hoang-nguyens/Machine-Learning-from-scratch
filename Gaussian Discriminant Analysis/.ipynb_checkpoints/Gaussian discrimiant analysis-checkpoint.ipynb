{
 "cells": [
  {
   "cell_type": "code",
   "execution_count": 2,
   "id": "f8aa82cc",
   "metadata": {},
   "outputs": [],
   "source": [
    "import numpy as np\n",
    "import pandas as pd\n",
    "from sklearn.model_selection import train_test_split\n",
    "from sklearn.datasets import load_breast_cancer\n"
   ]
  },
  {
   "cell_type": "code",
   "execution_count": 3,
   "id": "816d9e54",
   "metadata": {},
   "outputs": [],
   "source": [
    "breast_cancer = load_breast_cancer()\n",
    "df = pd.DataFrame(breast_cancer.data, columns = breast_cancer.feature_names)\n",
    "X, y = load_breast_cancer(return_X_y = True)\n",
    "X_train, X_test, y_train, y_test = train_test_split(X,y, random_state = 42, train_size = 0.8)"
   ]
  },
  {
   "cell_type": "code",
   "execution_count": 4,
   "id": "91a762ca",
   "metadata": {},
   "outputs": [
    {
     "name": "stdout",
     "output_type": "stream",
     "text": [
      "accuracy = 95.61\n"
     ]
    }
   ],
   "source": [
    "# calculate phi, mu and sigma( probability, mean and covariance)\n",
    "def GDA_fit(X_train, y_train):\n",
    "    n_classes = len(np.unique(y_train))\n",
    "    n_features = X_train.shape[1]\n",
    "    size_train = len(y_train)\n",
    "    \n",
    "    mu = np.zeros(( n_classes, n_features))\n",
    "    phi = np.zeros(n_classes)\n",
    "    sigma = np.zeros((n_classes, n_features, n_features))\n",
    "    \n",
    "    for i in range(n_classes):\n",
    "        indices = (y_train == i) # this is a mask array\n",
    "        \n",
    "        phi[i] = float(np.sum(indices).sum())/ size_train\n",
    "        mu[i] = np.mean( X_train[ indices,:], axis = 0)\n",
    "        sigma[i] = np.cov( X_train[ indices,:], rowvar = 0)\n",
    "    \n",
    "    return phi, mu, sigma\n",
    "phi, mu, sigma = GDA_fit(X_train, y_train)\n",
    "\n",
    "def multivariate_gaussian(X_val, mu, sigma):# probability of x given mu, sigma\n",
    "    d = len(X_val)\n",
    "    sigma_det = np.linalg.det(sigma)\n",
    "    sigma_inv = np.linalg.inv(sigma)\n",
    "    \n",
    "    fac = np.einsum('k,kl,l->', X_val - mu,sigma_inv, X_val - mu)\n",
    "    \n",
    "    N = np.sqrt( (2*np.pi)**d * sigma_det)\n",
    "    score = np.exp(-1/2* fac)/N\n",
    "    return score\n",
    "\n",
    "def GDA_predict(X_test, phi, mu, sigma):\n",
    "    n_class = len( np.unique(y_train))\n",
    "    n_test = X_test.shape[0]\n",
    "    scores = np.zeros((n_test, n_class))\n",
    "    for label in range(n_class):\n",
    "        for i in range(n_test):\n",
    "            scores[i, label] = multivariate_gaussian(X_test[i], mu[label], sigma[label])*phi[label]\n",
    "    predictions = np.argmax(scores, axis = 1)\n",
    "    return predictions\n",
    "y_pred = GDA_predict(X_test, phi,mu, sigma)\n",
    "accuracy = (y_pred == y_test).sum()\n",
    "print(f\"accuracy = {round(accuracy/ len(y_test)*100,2)}\")\n"
   ]
  },
  {
   "cell_type": "code",
   "execution_count": null,
   "id": "58691488",
   "metadata": {},
   "outputs": [],
   "source": []
  }
 ],
 "metadata": {
  "kernelspec": {
   "display_name": "Python 3 (ipykernel)",
   "language": "python",
   "name": "python3"
  },
  "language_info": {
   "codemirror_mode": {
    "name": "ipython",
    "version": 3
   },
   "file_extension": ".py",
   "mimetype": "text/x-python",
   "name": "python",
   "nbconvert_exporter": "python",
   "pygments_lexer": "ipython3",
   "version": "3.11.5"
  }
 },
 "nbformat": 4,
 "nbformat_minor": 5
}

{
 "cells": [
  {
   "cell_type": "code",
   "execution_count": 7,
   "id": "b16ec8c2",
   "metadata": {},
   "outputs": [],
   "source": [
    "import pandas as pd\n",
    "import numpy as np\n",
    "from sklearn.datasets import load_breast_cancer\n",
    "from sklearn.model_selection import train_test_split\n"
   ]
  },
  {
   "cell_type": "code",
   "execution_count": 8,
   "id": "3ebc1c12",
   "metadata": {},
   "outputs": [],
   "source": [
    "breast_cancer = load_breast_cancer()\n",
    "X = breast_cancer['data']\n",
    "y = breast_cancer['target']\n",
    "y = np.where(y==1, 1, -1)\n",
    "X_train, X_test, y_train, y_test = train_test_split(X,y, random_state = 42, train_size = 0.8)\n"
   ]
  },
  {
   "cell_type": "code",
   "execution_count": 30,
   "id": "c7754655",
   "metadata": {},
   "outputs": [],
   "source": [
    "# use gradient descend and hinge loss\n",
    "def batch_gradient_descend(X_train,y_train, n_iteration, learning_rate, lambda_para):\n",
    "    n_train, n_feature = X_train.shape\n",
    "    weight = np.random.rand(n_feature)\n",
    "    b = np.random.rand()\n",
    "    for _ in range(n_iteration):\n",
    "        for i in range(n_train):\n",
    "            condition = (y_train[i]*( np.dot(weight,X_train[i]) - b) >=1)\n",
    "            if condition:\n",
    "                slope = learning_rate*2*lambda_para*weight\n",
    "                weight -= slope\n",
    "            else:\n",
    "                slope = learning_rate*( 2*lambda_para*weight - np.dot(y_train[i],X_train[i]))\n",
    "                weight -= slope\n",
    "                b = b - learning_rate*y_train[i]\n",
    "    return weight, b\n",
    "def predict(X_test, weight,b):\n",
    "    n_test = X_test.shape[0]\n",
    "    y_pred = np.zeros(n_test)\n",
    "    for i in range(n_test):\n",
    "        y_pred[i] = np.sign( np.dot(weight , X_test[i]) - b)\n",
    "    return y_pred\n"
   ]
  },
  {
   "cell_type": "code",
   "execution_count": 34,
   "id": "c57e4abb",
   "metadata": {},
   "outputs": [
    {
     "name": "stdout",
     "output_type": "stream",
     "text": [
      "94.74\n"
     ]
    }
   ],
   "source": [
    "weight, b = batch_gradient_descend(X_train, y_train, 1000, 0.001, 2)\n",
    "y_pred = predict(X_test, weight,b)\n",
    "#print(y_pred)\n",
    "accuracy = (y_pred == y_test).sum()\n",
    "print(round(accuracy/len(y_test)*100,2))"
   ]
  }
 ],
 "metadata": {
  "kernelspec": {
   "display_name": "Python 3 (ipykernel)",
   "language": "python",
   "name": "python3"
  },
  "language_info": {
   "codemirror_mode": {
    "name": "ipython",
    "version": 3
   },
   "file_extension": ".py",
   "mimetype": "text/x-python",
   "name": "python",
   "nbconvert_exporter": "python",
   "pygments_lexer": "ipython3",
   "version": "3.11.5"
  }
 },
 "nbformat": 4,
 "nbformat_minor": 5
}
